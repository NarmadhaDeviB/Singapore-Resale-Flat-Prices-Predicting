{
 "cells": [
  {
   "cell_type": "code",
   "execution_count": 1,
   "metadata": {},
   "outputs": [],
   "source": [
    "import pandas as pd\n",
    "import seaborn as sn\n",
    "import numpy as np\n",
    "import matplotlib.pyplot as plt\n",
    "from sklearn.preprocessing import LabelEncoder\n",
    "import pickle as pkl\n",
    "import warnings\n",
    "warnings.filterwarnings('ignore')"
   ]
  },
  {
   "cell_type": "code",
   "execution_count": 2,
   "metadata": {},
   "outputs": [
    {
     "data": {
      "text/html": [
       "<div>\n",
       "<style scoped>\n",
       "    .dataframe tbody tr th:only-of-type {\n",
       "        vertical-align: middle;\n",
       "    }\n",
       "\n",
       "    .dataframe tbody tr th {\n",
       "        vertical-align: top;\n",
       "    }\n",
       "\n",
       "    .dataframe thead th {\n",
       "        text-align: right;\n",
       "    }\n",
       "</style>\n",
       "<table border=\"1\" class=\"dataframe\">\n",
       "  <thead>\n",
       "    <tr style=\"text-align: right;\">\n",
       "      <th></th>\n",
       "      <th>month</th>\n",
       "      <th>town</th>\n",
       "      <th>flat_type</th>\n",
       "      <th>block</th>\n",
       "      <th>street_name</th>\n",
       "      <th>storey_range</th>\n",
       "      <th>floor_area_sqm</th>\n",
       "      <th>flat_model</th>\n",
       "      <th>lease_commence_date</th>\n",
       "      <th>resale_price</th>\n",
       "      <th>remaining_lease</th>\n",
       "    </tr>\n",
       "  </thead>\n",
       "  <tbody>\n",
       "    <tr>\n",
       "      <th>0</th>\n",
       "      <td>1990-01</td>\n",
       "      <td>ANG MO KIO</td>\n",
       "      <td>1 ROOM</td>\n",
       "      <td>309</td>\n",
       "      <td>ANG MO KIO AVE 1</td>\n",
       "      <td>10 TO 12</td>\n",
       "      <td>31.0</td>\n",
       "      <td>IMPROVED</td>\n",
       "      <td>1977</td>\n",
       "      <td>9000.0</td>\n",
       "      <td>NaN</td>\n",
       "    </tr>\n",
       "    <tr>\n",
       "      <th>1</th>\n",
       "      <td>1990-01</td>\n",
       "      <td>ANG MO KIO</td>\n",
       "      <td>1 ROOM</td>\n",
       "      <td>309</td>\n",
       "      <td>ANG MO KIO AVE 1</td>\n",
       "      <td>04 TO 06</td>\n",
       "      <td>31.0</td>\n",
       "      <td>IMPROVED</td>\n",
       "      <td>1977</td>\n",
       "      <td>6000.0</td>\n",
       "      <td>NaN</td>\n",
       "    </tr>\n",
       "    <tr>\n",
       "      <th>2</th>\n",
       "      <td>1990-01</td>\n",
       "      <td>ANG MO KIO</td>\n",
       "      <td>1 ROOM</td>\n",
       "      <td>309</td>\n",
       "      <td>ANG MO KIO AVE 1</td>\n",
       "      <td>10 TO 12</td>\n",
       "      <td>31.0</td>\n",
       "      <td>IMPROVED</td>\n",
       "      <td>1977</td>\n",
       "      <td>8000.0</td>\n",
       "      <td>NaN</td>\n",
       "    </tr>\n",
       "    <tr>\n",
       "      <th>3</th>\n",
       "      <td>1990-01</td>\n",
       "      <td>ANG MO KIO</td>\n",
       "      <td>1 ROOM</td>\n",
       "      <td>309</td>\n",
       "      <td>ANG MO KIO AVE 1</td>\n",
       "      <td>07 TO 09</td>\n",
       "      <td>31.0</td>\n",
       "      <td>IMPROVED</td>\n",
       "      <td>1977</td>\n",
       "      <td>6000.0</td>\n",
       "      <td>NaN</td>\n",
       "    </tr>\n",
       "    <tr>\n",
       "      <th>4</th>\n",
       "      <td>1990-01</td>\n",
       "      <td>ANG MO KIO</td>\n",
       "      <td>3 ROOM</td>\n",
       "      <td>216</td>\n",
       "      <td>ANG MO KIO AVE 1</td>\n",
       "      <td>04 TO 06</td>\n",
       "      <td>73.0</td>\n",
       "      <td>NEW GENERATION</td>\n",
       "      <td>1976</td>\n",
       "      <td>47200.0</td>\n",
       "      <td>NaN</td>\n",
       "    </tr>\n",
       "    <tr>\n",
       "      <th>...</th>\n",
       "      <td>...</td>\n",
       "      <td>...</td>\n",
       "      <td>...</td>\n",
       "      <td>...</td>\n",
       "      <td>...</td>\n",
       "      <td>...</td>\n",
       "      <td>...</td>\n",
       "      <td>...</td>\n",
       "      <td>...</td>\n",
       "      <td>...</td>\n",
       "      <td>...</td>\n",
       "    </tr>\n",
       "    <tr>\n",
       "      <th>188725</th>\n",
       "      <td>2024-09</td>\n",
       "      <td>YISHUN</td>\n",
       "      <td>4 ROOM</td>\n",
       "      <td>725</td>\n",
       "      <td>YISHUN ST 71</td>\n",
       "      <td>01 TO 03</td>\n",
       "      <td>84.0</td>\n",
       "      <td>Simplified</td>\n",
       "      <td>1987</td>\n",
       "      <td>460000.0</td>\n",
       "      <td>62 years 02 months</td>\n",
       "    </tr>\n",
       "    <tr>\n",
       "      <th>188726</th>\n",
       "      <td>2024-09</td>\n",
       "      <td>YISHUN</td>\n",
       "      <td>5 ROOM</td>\n",
       "      <td>432C</td>\n",
       "      <td>YISHUN AVE 1</td>\n",
       "      <td>01 TO 03</td>\n",
       "      <td>112.0</td>\n",
       "      <td>Improved</td>\n",
       "      <td>2015</td>\n",
       "      <td>610000.0</td>\n",
       "      <td>90 years 02 months</td>\n",
       "    </tr>\n",
       "    <tr>\n",
       "      <th>188727</th>\n",
       "      <td>2024-09</td>\n",
       "      <td>YISHUN</td>\n",
       "      <td>5 ROOM</td>\n",
       "      <td>305</td>\n",
       "      <td>YISHUN CTRL</td>\n",
       "      <td>10 TO 12</td>\n",
       "      <td>122.0</td>\n",
       "      <td>Improved</td>\n",
       "      <td>1988</td>\n",
       "      <td>660000.0</td>\n",
       "      <td>62 years 07 months</td>\n",
       "    </tr>\n",
       "    <tr>\n",
       "      <th>188728</th>\n",
       "      <td>2024-09</td>\n",
       "      <td>YISHUN</td>\n",
       "      <td>5 ROOM</td>\n",
       "      <td>149</td>\n",
       "      <td>YISHUN ST 11</td>\n",
       "      <td>07 TO 09</td>\n",
       "      <td>121.0</td>\n",
       "      <td>Improved</td>\n",
       "      <td>1985</td>\n",
       "      <td>630000.0</td>\n",
       "      <td>59 years 07 months</td>\n",
       "    </tr>\n",
       "    <tr>\n",
       "      <th>188729</th>\n",
       "      <td>2024-09</td>\n",
       "      <td>YISHUN</td>\n",
       "      <td>EXECUTIVE</td>\n",
       "      <td>824</td>\n",
       "      <td>YISHUN ST 81</td>\n",
       "      <td>01 TO 03</td>\n",
       "      <td>146.0</td>\n",
       "      <td>Maisonette</td>\n",
       "      <td>1987</td>\n",
       "      <td>893888.0</td>\n",
       "      <td>62 years 03 months</td>\n",
       "    </tr>\n",
       "  </tbody>\n",
       "</table>\n",
       "<p>934933 rows × 11 columns</p>\n",
       "</div>"
      ],
      "text/plain": [
       "          month        town  flat_type block       street_name storey_range  \\\n",
       "0       1990-01  ANG MO KIO     1 ROOM   309  ANG MO KIO AVE 1     10 TO 12   \n",
       "1       1990-01  ANG MO KIO     1 ROOM   309  ANG MO KIO AVE 1     04 TO 06   \n",
       "2       1990-01  ANG MO KIO     1 ROOM   309  ANG MO KIO AVE 1     10 TO 12   \n",
       "3       1990-01  ANG MO KIO     1 ROOM   309  ANG MO KIO AVE 1     07 TO 09   \n",
       "4       1990-01  ANG MO KIO     3 ROOM   216  ANG MO KIO AVE 1     04 TO 06   \n",
       "...         ...         ...        ...   ...               ...          ...   \n",
       "188725  2024-09      YISHUN     4 ROOM   725      YISHUN ST 71     01 TO 03   \n",
       "188726  2024-09      YISHUN     5 ROOM  432C      YISHUN AVE 1     01 TO 03   \n",
       "188727  2024-09      YISHUN     5 ROOM   305       YISHUN CTRL     10 TO 12   \n",
       "188728  2024-09      YISHUN     5 ROOM   149      YISHUN ST 11     07 TO 09   \n",
       "188729  2024-09      YISHUN  EXECUTIVE   824      YISHUN ST 81     01 TO 03   \n",
       "\n",
       "        floor_area_sqm      flat_model  lease_commence_date  resale_price  \\\n",
       "0                 31.0        IMPROVED                 1977        9000.0   \n",
       "1                 31.0        IMPROVED                 1977        6000.0   \n",
       "2                 31.0        IMPROVED                 1977        8000.0   \n",
       "3                 31.0        IMPROVED                 1977        6000.0   \n",
       "4                 73.0  NEW GENERATION                 1976       47200.0   \n",
       "...                ...             ...                  ...           ...   \n",
       "188725            84.0      Simplified                 1987      460000.0   \n",
       "188726           112.0        Improved                 2015      610000.0   \n",
       "188727           122.0        Improved                 1988      660000.0   \n",
       "188728           121.0        Improved                 1985      630000.0   \n",
       "188729           146.0      Maisonette                 1987      893888.0   \n",
       "\n",
       "           remaining_lease  \n",
       "0                      NaN  \n",
       "1                      NaN  \n",
       "2                      NaN  \n",
       "3                      NaN  \n",
       "4                      NaN  \n",
       "...                    ...  \n",
       "188725  62 years 02 months  \n",
       "188726  90 years 02 months  \n",
       "188727  62 years 07 months  \n",
       "188728  59 years 07 months  \n",
       "188729  62 years 03 months  \n",
       "\n",
       "[934933 rows x 11 columns]"
      ]
     },
     "execution_count": 2,
     "metadata": {},
     "output_type": "execute_result"
    }
   ],
   "source": [
    "df1 = pd.read_csv(\"ResaleFlatPricesBasedonApprovalDate19901999.csv\")\n",
    "df2 = pd.read_csv(\"ResaleFlatPricesBasedonApprovalDate2000Feb2012.csv\")\n",
    "df3 = pd.read_csv(\"ResaleFlatPricesBasedonRegistrationDateFromMar2012toDec2014.csv\")\n",
    "df4 = pd.read_csv(\"ResaleFlatPricesBasedonRegistrationDateFromJan2015toDec2016.csv\")\n",
    "df5 = pd.read_csv(\"ResaleflatpricesbasedonregistrationdatefromJan2017onwards.csv\")\n",
    "df = pd.concat([df1, df2, df3, df4, df5])\n",
    "df"
   ]
  },
  {
   "cell_type": "code",
   "execution_count": 3,
   "metadata": {},
   "outputs": [
    {
     "name": "stdout",
     "output_type": "stream",
     "text": [
      "<class 'pandas.core.frame.DataFrame'>\n",
      "Index: 934933 entries, 0 to 188729\n",
      "Data columns (total 11 columns):\n",
      " #   Column               Non-Null Count   Dtype  \n",
      "---  ------               --------------   -----  \n",
      " 0   month                934933 non-null  object \n",
      " 1   town                 934933 non-null  object \n",
      " 2   flat_type            934933 non-null  object \n",
      " 3   block                934933 non-null  object \n",
      " 4   street_name          934933 non-null  object \n",
      " 5   storey_range         934933 non-null  object \n",
      " 6   floor_area_sqm       934933 non-null  float64\n",
      " 7   flat_model           934933 non-null  object \n",
      " 8   lease_commence_date  934933 non-null  int64  \n",
      " 9   resale_price         934933 non-null  float64\n",
      " 10  remaining_lease      225883 non-null  object \n",
      "dtypes: float64(2), int64(1), object(8)\n",
      "memory usage: 85.6+ MB\n"
     ]
    }
   ],
   "source": [
    "df.info()"
   ]
  },
  {
   "cell_type": "code",
   "execution_count": 4,
   "metadata": {},
   "outputs": [
    {
     "data": {
      "text/plain": [
       "Index(['month', 'town', 'flat_type', 'block', 'street_name', 'storey_range',\n",
       "       'floor_area_sqm', 'flat_model', 'lease_commence_date', 'resale_price',\n",
       "       'remaining_lease'],\n",
       "      dtype='object')"
      ]
     },
     "execution_count": 4,
     "metadata": {},
     "output_type": "execute_result"
    }
   ],
   "source": [
    "df.columns"
   ]
  },
  {
   "cell_type": "code",
   "execution_count": 5,
   "metadata": {},
   "outputs": [],
   "source": [
    "df.drop('remaining_lease',axis=1,inplace=True)"
   ]
  },
  {
   "cell_type": "code",
   "execution_count": 6,
   "metadata": {},
   "outputs": [
    {
     "data": {
      "text/plain": [
       "month                  0\n",
       "town                   0\n",
       "flat_type              0\n",
       "block                  0\n",
       "street_name            0\n",
       "storey_range           0\n",
       "floor_area_sqm         0\n",
       "flat_model             0\n",
       "lease_commence_date    0\n",
       "resale_price           0\n",
       "dtype: int64"
      ]
     },
     "execution_count": 6,
     "metadata": {},
     "output_type": "execute_result"
    }
   ],
   "source": [
    "df.isna().sum()"
   ]
  },
  {
   "cell_type": "code",
   "execution_count": 7,
   "metadata": {},
   "outputs": [],
   "source": [
    "df[['year','month']]=df['month'].str.split('-',expand=True)"
   ]
  },
  {
   "cell_type": "code",
   "execution_count": 8,
   "metadata": {},
   "outputs": [],
   "source": [
    "df[['storey_start','storey_end']]=df['storey_range'].str.split('TO',expand=True)"
   ]
  },
  {
   "cell_type": "code",
   "execution_count": 9,
   "metadata": {},
   "outputs": [],
   "source": [
    "df['month']=pd.to_numeric(df['month'])\n",
    "df['year']=pd.to_numeric(df['year'])\n",
    "df['floor_area_sqm']=pd.to_numeric(df['floor_area_sqm'])\n",
    "df['resale_price']=pd.to_numeric(df['resale_price'])\n",
    "df['storey_start']=pd.to_numeric(df['storey_start'])\n",
    "df['storey_end']=pd.to_numeric(df['storey_end'])"
   ]
  },
  {
   "cell_type": "code",
   "execution_count": 10,
   "metadata": {},
   "outputs": [
    {
     "name": "stdout",
     "output_type": "stream",
     "text": [
      "min     1\n",
      "max    12\n",
      "Name: month, dtype: int64\n",
      "min     1\n",
      "max    49\n",
      "Name: storey_start, dtype: int64\n",
      "min     3\n",
      "max    51\n",
      "Name: storey_end, dtype: int64\n",
      "min     28.0\n",
      "max    366.7\n",
      "Name: floor_area_sqm, dtype: float64\n",
      "min    1966\n",
      "max    2020\n",
      "Name: lease_commence_date, dtype: int64\n",
      "min    1990\n",
      "max    2024\n",
      "Name: year, dtype: int64\n"
     ]
    }
   ],
   "source": [
    "print(df.month.agg(['min', 'max']))\n",
    "print(df.storey_start.agg(['min', 'max']))\n",
    "print(df.storey_end.agg(['min', 'max']))\n",
    "print(df.floor_area_sqm.agg(['min', 'max']))\n",
    "print(df.lease_commence_date.agg(['min', 'max']))\n",
    "print(df.year.agg(['min', 'max']))"
   ]
  },
  {
   "cell_type": "code",
   "execution_count": 11,
   "metadata": {},
   "outputs": [],
   "source": [
    "df.drop(columns='storey_range',inplace=True)"
   ]
  },
  {
   "cell_type": "code",
   "execution_count": 12,
   "metadata": {},
   "outputs": [
    {
     "name": "stdout",
     "output_type": "stream",
     "text": [
      "<class 'pandas.core.frame.DataFrame'>\n",
      "Index: 934933 entries, 0 to 188729\n",
      "Data columns (total 12 columns):\n",
      " #   Column               Non-Null Count   Dtype  \n",
      "---  ------               --------------   -----  \n",
      " 0   month                934933 non-null  int64  \n",
      " 1   town                 934933 non-null  object \n",
      " 2   flat_type            934933 non-null  object \n",
      " 3   block                934933 non-null  object \n",
      " 4   street_name          934933 non-null  object \n",
      " 5   floor_area_sqm       934933 non-null  float64\n",
      " 6   flat_model           934933 non-null  object \n",
      " 7   lease_commence_date  934933 non-null  int64  \n",
      " 8   resale_price         934933 non-null  float64\n",
      " 9   year                 934933 non-null  int64  \n",
      " 10  storey_start         934933 non-null  int64  \n",
      " 11  storey_end           934933 non-null  int64  \n",
      "dtypes: float64(2), int64(5), object(5)\n",
      "memory usage: 92.7+ MB\n"
     ]
    }
   ],
   "source": [
    "df.info()"
   ]
  },
  {
   "cell_type": "code",
   "execution_count": 13,
   "metadata": {},
   "outputs": [],
   "source": [
    "df['flat_model']=df['flat_model'].str.upper()\n",
    "df['flat_type']=df['flat_type'].replace({'MULTI GENERATION': 'MULTI-GENERATION'})"
   ]
  },
  {
   "cell_type": "code",
   "execution_count": 14,
   "metadata": {},
   "outputs": [],
   "source": [
    "df.drop(['block','street_name'],axis=1,inplace=True)"
   ]
  },
  {
   "cell_type": "code",
   "execution_count": 15,
   "metadata": {},
   "outputs": [
    {
     "data": {
      "text/html": [
       "<div>\n",
       "<style scoped>\n",
       "    .dataframe tbody tr th:only-of-type {\n",
       "        vertical-align: middle;\n",
       "    }\n",
       "\n",
       "    .dataframe tbody tr th {\n",
       "        vertical-align: top;\n",
       "    }\n",
       "\n",
       "    .dataframe thead th {\n",
       "        text-align: right;\n",
       "    }\n",
       "</style>\n",
       "<table border=\"1\" class=\"dataframe\">\n",
       "  <thead>\n",
       "    <tr style=\"text-align: right;\">\n",
       "      <th></th>\n",
       "      <th>month</th>\n",
       "      <th>town</th>\n",
       "      <th>flat_type</th>\n",
       "      <th>floor_area_sqm</th>\n",
       "      <th>flat_model</th>\n",
       "      <th>lease_commence_date</th>\n",
       "      <th>resale_price</th>\n",
       "      <th>year</th>\n",
       "      <th>storey_start</th>\n",
       "      <th>storey_end</th>\n",
       "    </tr>\n",
       "  </thead>\n",
       "  <tbody>\n",
       "    <tr>\n",
       "      <th>0</th>\n",
       "      <td>1</td>\n",
       "      <td>ANG MO KIO</td>\n",
       "      <td>1 ROOM</td>\n",
       "      <td>31.0</td>\n",
       "      <td>IMPROVED</td>\n",
       "      <td>1977</td>\n",
       "      <td>9000.0</td>\n",
       "      <td>1990</td>\n",
       "      <td>10</td>\n",
       "      <td>12</td>\n",
       "    </tr>\n",
       "    <tr>\n",
       "      <th>1</th>\n",
       "      <td>1</td>\n",
       "      <td>ANG MO KIO</td>\n",
       "      <td>1 ROOM</td>\n",
       "      <td>31.0</td>\n",
       "      <td>IMPROVED</td>\n",
       "      <td>1977</td>\n",
       "      <td>6000.0</td>\n",
       "      <td>1990</td>\n",
       "      <td>4</td>\n",
       "      <td>6</td>\n",
       "    </tr>\n",
       "    <tr>\n",
       "      <th>2</th>\n",
       "      <td>1</td>\n",
       "      <td>ANG MO KIO</td>\n",
       "      <td>1 ROOM</td>\n",
       "      <td>31.0</td>\n",
       "      <td>IMPROVED</td>\n",
       "      <td>1977</td>\n",
       "      <td>8000.0</td>\n",
       "      <td>1990</td>\n",
       "      <td>10</td>\n",
       "      <td>12</td>\n",
       "    </tr>\n",
       "    <tr>\n",
       "      <th>3</th>\n",
       "      <td>1</td>\n",
       "      <td>ANG MO KIO</td>\n",
       "      <td>1 ROOM</td>\n",
       "      <td>31.0</td>\n",
       "      <td>IMPROVED</td>\n",
       "      <td>1977</td>\n",
       "      <td>6000.0</td>\n",
       "      <td>1990</td>\n",
       "      <td>7</td>\n",
       "      <td>9</td>\n",
       "    </tr>\n",
       "    <tr>\n",
       "      <th>4</th>\n",
       "      <td>1</td>\n",
       "      <td>ANG MO KIO</td>\n",
       "      <td>3 ROOM</td>\n",
       "      <td>73.0</td>\n",
       "      <td>NEW GENERATION</td>\n",
       "      <td>1976</td>\n",
       "      <td>47200.0</td>\n",
       "      <td>1990</td>\n",
       "      <td>4</td>\n",
       "      <td>6</td>\n",
       "    </tr>\n",
       "  </tbody>\n",
       "</table>\n",
       "</div>"
      ],
      "text/plain": [
       "   month        town flat_type  floor_area_sqm      flat_model  \\\n",
       "0      1  ANG MO KIO    1 ROOM            31.0        IMPROVED   \n",
       "1      1  ANG MO KIO    1 ROOM            31.0        IMPROVED   \n",
       "2      1  ANG MO KIO    1 ROOM            31.0        IMPROVED   \n",
       "3      1  ANG MO KIO    1 ROOM            31.0        IMPROVED   \n",
       "4      1  ANG MO KIO    3 ROOM            73.0  NEW GENERATION   \n",
       "\n",
       "   lease_commence_date  resale_price  year  storey_start  storey_end  \n",
       "0                 1977        9000.0  1990            10          12  \n",
       "1                 1977        6000.0  1990             4           6  \n",
       "2                 1977        8000.0  1990            10          12  \n",
       "3                 1977        6000.0  1990             7           9  \n",
       "4                 1976       47200.0  1990             4           6  "
      ]
     },
     "execution_count": 15,
     "metadata": {},
     "output_type": "execute_result"
    }
   ],
   "source": [
    "df.head()"
   ]
  },
  {
   "cell_type": "code",
   "execution_count": 16,
   "metadata": {},
   "outputs": [
    {
     "data": {
      "image/png": "[encoded data removed]",
      "text/plain": [
       "<Figure size 800x600 with 1 Axes>"
      ]
     },
     "metadata": {},
     "output_type": "display_data"
    },
    {
     "data": {
      "image/png": "[encoded data removed]",
      "text/plain": [
       "<Figure size 800x600 with 1 Axes>"
      ]
     },
     "metadata": {},
     "output_type": "display_data"
    }
   ],
   "source": [
    "columns = ['floor_area_sqm',  'resale_price']\n",
    "\n",
    "for col in columns:\n",
    "    plt.figure(figsize=(8, 6))  \n",
    "    sn.boxplot(data=df, x=col)\n",
    "    plt.title(f'Boxplot of {col}')\n",
    "    plt.xlabel(col)\n",
    "    plt.show()"
   ]
  },
  {
   "cell_type": "code",
   "execution_count": 17,
   "metadata": {},
   "outputs": [],
   "source": [
    "df['floor_area_sqm_log']=np.log(df['floor_area_sqm'])\n",
    "df['resale_price_log']=np.log(df['resale_price'])"
   ]
  },
  {
   "cell_type": "code",
   "execution_count": 18,
   "metadata": {},
   "outputs": [],
   "source": [
    "def outlier(df, column):\n",
    "    IQR = df[column].quantile(0.75) - df[column].quantile(0.25)\n",
    "\n",
    "    upper_threshold = df[column].quantile(0.75) + (1.5*IQR)\n",
    "    lower_threshold = df[column].quantile(0.25) - (1.5*IQR)\n",
    "    \n",
    "    df[column] = df[column].clip(lower_threshold, upper_threshold)"
   ]
  },
  {
   "cell_type": "code",
   "execution_count": 19,
   "metadata": {},
   "outputs": [],
   "source": [
    "outlier(df,'floor_area_sqm_log')\n",
    "outlier(df,'resale_price_log')"
   ]
  },
  {
   "cell_type": "code",
   "execution_count": 20,
   "metadata": {},
   "outputs": [
    {
     "data": {
      "image/png": "[encoded data removed]",
      "text/plain": [
       "<Figure size 800x600 with 1 Axes>"
      ]
     },
     "metadata": {},
     "output_type": "display_data"
    },
    {
     "data": {
      "image/png": "[encoded data removed]",
      "text/plain": [
       "<Figure size 800x600 with 1 Axes>"
      ]
     },
     "metadata": {},
     "output_type": "display_data"
    }
   ],
   "source": [
    "columns = ['floor_area_sqm_log',  'resale_price_log']\n",
    "\n",
    "for col in columns:\n",
    "    plt.figure(figsize=(8, 6))  \n",
    "    sn.boxplot(data=df, x=col)\n",
    "    plt.title(f'Boxplot of {col}')\n",
    "    plt.xlabel(col)\n",
    "    plt.show()"
   ]
  },
  {
   "cell_type": "code",
   "execution_count": 21,
   "metadata": {},
   "outputs": [
    {
     "data": {
      "text/plain": [
       "Index(['month', 'town', 'flat_type', 'floor_area_sqm', 'flat_model',\n",
       "       'lease_commence_date', 'resale_price', 'year', 'storey_start',\n",
       "       'storey_end', 'floor_area_sqm_log', 'resale_price_log'],\n",
       "      dtype='object')"
      ]
     },
     "execution_count": 21,
     "metadata": {},
     "output_type": "execute_result"
    }
   ],
   "source": [
    "df.columns"
   ]
  },
  {
   "cell_type": "code",
   "execution_count": 22,
   "metadata": {},
   "outputs": [],
   "source": [
    "df.drop(columns=['floor_area_sqm','resale_price'],inplace=True)"
   ]
  },
  {
   "cell_type": "code",
   "execution_count": 23,
   "metadata": {},
   "outputs": [
    {
     "data": {
      "text/plain": [
       "<Axes: >"
      ]
     },
     "execution_count": 23,
     "metadata": {},
     "output_type": "execute_result"
    },
    {
     "data": {
      "image/png": "[encoded data removed]",
      "text/plain": [
       "<Figure size 640x480 with 2 Axes>"
      ]
     },
     "metadata": {},
     "output_type": "display_data"
    }
   ],
   "source": [
    "x=df[['month','lease_commence_date', 'year', 'storey_start', 'storey_end', 'floor_area_sqm_log', 'resale_price_log']].corr()\n",
    "sn.heatmap(x, annot=True, cmap=\"YlGnBu\")"
   ]
  },
  {
   "cell_type": "code",
   "execution_count": 24,
   "metadata": {},
   "outputs": [
    {
     "data": {
      "text/html": [
       "<div>\n",
       "<style scoped>\n",
       "    .dataframe tbody tr th:only-of-type {\n",
       "        vertical-align: middle;\n",
       "    }\n",
       "\n",
       "    .dataframe tbody tr th {\n",
       "        vertical-align: top;\n",
       "    }\n",
       "\n",
       "    .dataframe thead th {\n",
       "        text-align: right;\n",
       "    }\n",
       "</style>\n",
       "<table border=\"1\" class=\"dataframe\">\n",
       "  <thead>\n",
       "    <tr style=\"text-align: right;\">\n",
       "      <th></th>\n",
       "      <th>month</th>\n",
       "      <th>town</th>\n",
       "      <th>flat_type</th>\n",
       "      <th>flat_model</th>\n",
       "      <th>lease_commence_date</th>\n",
       "      <th>year</th>\n",
       "      <th>storey_start</th>\n",
       "      <th>storey_end</th>\n",
       "      <th>floor_area_sqm_log</th>\n",
       "      <th>resale_price_log</th>\n",
       "    </tr>\n",
       "  </thead>\n",
       "  <tbody>\n",
       "    <tr>\n",
       "      <th>0</th>\n",
       "      <td>1</td>\n",
       "      <td>ANG MO KIO</td>\n",
       "      <td>1 ROOM</td>\n",
       "      <td>IMPROVED</td>\n",
       "      <td>1977</td>\n",
       "      <td>1990</td>\n",
       "      <td>10</td>\n",
       "      <td>12</td>\n",
       "      <td>3.635067</td>\n",
       "      <td>11.029872</td>\n",
       "    </tr>\n",
       "    <tr>\n",
       "      <th>1</th>\n",
       "      <td>1</td>\n",
       "      <td>ANG MO KIO</td>\n",
       "      <td>1 ROOM</td>\n",
       "      <td>IMPROVED</td>\n",
       "      <td>1977</td>\n",
       "      <td>1990</td>\n",
       "      <td>4</td>\n",
       "      <td>6</td>\n",
       "      <td>3.635067</td>\n",
       "      <td>11.029872</td>\n",
       "    </tr>\n",
       "    <tr>\n",
       "      <th>2</th>\n",
       "      <td>1</td>\n",
       "      <td>ANG MO KIO</td>\n",
       "      <td>1 ROOM</td>\n",
       "      <td>IMPROVED</td>\n",
       "      <td>1977</td>\n",
       "      <td>1990</td>\n",
       "      <td>10</td>\n",
       "      <td>12</td>\n",
       "      <td>3.635067</td>\n",
       "      <td>11.029872</td>\n",
       "    </tr>\n",
       "    <tr>\n",
       "      <th>3</th>\n",
       "      <td>1</td>\n",
       "      <td>ANG MO KIO</td>\n",
       "      <td>1 ROOM</td>\n",
       "      <td>IMPROVED</td>\n",
       "      <td>1977</td>\n",
       "      <td>1990</td>\n",
       "      <td>7</td>\n",
       "      <td>9</td>\n",
       "      <td>3.635067</td>\n",
       "      <td>11.029872</td>\n",
       "    </tr>\n",
       "    <tr>\n",
       "      <th>4</th>\n",
       "      <td>1</td>\n",
       "      <td>ANG MO KIO</td>\n",
       "      <td>3 ROOM</td>\n",
       "      <td>NEW GENERATION</td>\n",
       "      <td>1976</td>\n",
       "      <td>1990</td>\n",
       "      <td>4</td>\n",
       "      <td>6</td>\n",
       "      <td>4.290459</td>\n",
       "      <td>11.029872</td>\n",
       "    </tr>\n",
       "  </tbody>\n",
       "</table>\n",
       "</div>"
      ],
      "text/plain": [
       "   month        town flat_type      flat_model  lease_commence_date  year  \\\n",
       "0      1  ANG MO KIO    1 ROOM        IMPROVED                 1977  1990   \n",
       "1      1  ANG MO KIO    1 ROOM        IMPROVED                 1977  1990   \n",
       "2      1  ANG MO KIO    1 ROOM        IMPROVED                 1977  1990   \n",
       "3      1  ANG MO KIO    1 ROOM        IMPROVED                 1977  1990   \n",
       "4      1  ANG MO KIO    3 ROOM  NEW GENERATION                 1976  1990   \n",
       "\n",
       "   storey_start  storey_end  floor_area_sqm_log  resale_price_log  \n",
       "0            10          12            3.635067         11.029872  \n",
       "1             4           6            3.635067         11.029872  \n",
       "2            10          12            3.635067         11.029872  \n",
       "3             7           9            3.635067         11.029872  \n",
       "4             4           6            4.290459         11.029872  "
      ]
     },
     "execution_count": 24,
     "metadata": {},
     "output_type": "execute_result"
    }
   ],
   "source": [
    "df_new = df.copy()\n",
    "df_new.head()"
   ]
  },
  {
   "cell_type": "code",
   "execution_count": 25,
   "metadata": {},
   "outputs": [],
   "source": [
    "df_new[\"town\"]= LabelEncoder().fit_transform(df_new[[\"town\"]])\n",
    "df_new[\"flat_type\"]= LabelEncoder().fit_transform(df_new[[\"flat_type\"]])\n",
    "df_new[\"flat_model\"]= LabelEncoder().fit_transform(df_new[[\"flat_model\"]])"
   ]
  },
  {
   "cell_type": "code",
   "execution_count": 26,
   "metadata": {},
   "outputs": [
    {
     "data": {
      "text/plain": [
       "array([ 0,  1,  2,  3,  4,  6,  7,  8,  9, 10, 11, 12, 13, 14, 16, 19, 21,\n",
       "       22, 23, 24, 25, 26, 15, 20,  5, 17, 18])"
      ]
     },
     "execution_count": 26,
     "metadata": {},
     "output_type": "execute_result"
    }
   ],
   "source": [
    "df_new['town'].unique()"
   ]
  },
  {
   "cell_type": "code",
   "execution_count": 27,
   "metadata": {},
   "outputs": [
    {
     "data": {
      "text/plain": [
       "array([0, 2, 3, 4, 1, 5, 6])"
      ]
     },
     "execution_count": 27,
     "metadata": {},
     "output_type": "execute_result"
    }
   ],
   "source": [
    "df_new['flat_type'].unique()"
   ]
  },
  {
   "cell_type": "code",
   "execution_count": 28,
   "metadata": {},
   "outputs": [
    {
     "data": {
      "text/plain": [
       "array([ 5, 12,  8, 17, 16,  9,  3,  7, 18,  0,  6, 11, 13,  2, 15, 10,  4,\n",
       "       19, 20, 14,  1])"
      ]
     },
     "execution_count": 28,
     "metadata": {},
     "output_type": "execute_result"
    }
   ],
   "source": [
    "df_new[\"flat_model\"].unique()"
   ]
  },
  {
   "cell_type": "code",
   "execution_count": 29,
   "metadata": {},
   "outputs": [
    {
     "data": {
      "text/html": [
       "<div>\n",
       "<style scoped>\n",
       "    .dataframe tbody tr th:only-of-type {\n",
       "        vertical-align: middle;\n",
       "    }\n",
       "\n",
       "    .dataframe tbody tr th {\n",
       "        vertical-align: top;\n",
       "    }\n",
       "\n",
       "    .dataframe thead th {\n",
       "        text-align: right;\n",
       "    }\n",
       "</style>\n",
       "<table border=\"1\" class=\"dataframe\">\n",
       "  <thead>\n",
       "    <tr style=\"text-align: right;\">\n",
       "      <th></th>\n",
       "      <th>month</th>\n",
       "      <th>town</th>\n",
       "      <th>flat_type</th>\n",
       "      <th>flat_model</th>\n",
       "      <th>lease_commence_date</th>\n",
       "      <th>year</th>\n",
       "      <th>storey_start</th>\n",
       "      <th>storey_end</th>\n",
       "      <th>floor_area_sqm_log</th>\n",
       "      <th>resale_price_log</th>\n",
       "    </tr>\n",
       "  </thead>\n",
       "  <tbody>\n",
       "    <tr>\n",
       "      <th>0</th>\n",
       "      <td>1</td>\n",
       "      <td>0</td>\n",
       "      <td>0</td>\n",
       "      <td>5</td>\n",
       "      <td>1977</td>\n",
       "      <td>1990</td>\n",
       "      <td>10</td>\n",
       "      <td>12</td>\n",
       "      <td>3.635067</td>\n",
       "      <td>11.029872</td>\n",
       "    </tr>\n",
       "    <tr>\n",
       "      <th>1</th>\n",
       "      <td>1</td>\n",
       "      <td>0</td>\n",
       "      <td>0</td>\n",
       "      <td>5</td>\n",
       "      <td>1977</td>\n",
       "      <td>1990</td>\n",
       "      <td>4</td>\n",
       "      <td>6</td>\n",
       "      <td>3.635067</td>\n",
       "      <td>11.029872</td>\n",
       "    </tr>\n",
       "    <tr>\n",
       "      <th>2</th>\n",
       "      <td>1</td>\n",
       "      <td>0</td>\n",
       "      <td>0</td>\n",
       "      <td>5</td>\n",
       "      <td>1977</td>\n",
       "      <td>1990</td>\n",
       "      <td>10</td>\n",
       "      <td>12</td>\n",
       "      <td>3.635067</td>\n",
       "      <td>11.029872</td>\n",
       "    </tr>\n",
       "    <tr>\n",
       "      <th>3</th>\n",
       "      <td>1</td>\n",
       "      <td>0</td>\n",
       "      <td>0</td>\n",
       "      <td>5</td>\n",
       "      <td>1977</td>\n",
       "      <td>1990</td>\n",
       "      <td>7</td>\n",
       "      <td>9</td>\n",
       "      <td>3.635067</td>\n",
       "      <td>11.029872</td>\n",
       "    </tr>\n",
       "    <tr>\n",
       "      <th>4</th>\n",
       "      <td>1</td>\n",
       "      <td>0</td>\n",
       "      <td>2</td>\n",
       "      <td>12</td>\n",
       "      <td>1976</td>\n",
       "      <td>1990</td>\n",
       "      <td>4</td>\n",
       "      <td>6</td>\n",
       "      <td>4.290459</td>\n",
       "      <td>11.029872</td>\n",
       "    </tr>\n",
       "  </tbody>\n",
       "</table>\n",
       "</div>"
      ],
      "text/plain": [
       "   month  town  flat_type  flat_model  lease_commence_date  year  \\\n",
       "0      1     0          0           5                 1977  1990   \n",
       "1      1     0          0           5                 1977  1990   \n",
       "2      1     0          0           5                 1977  1990   \n",
       "3      1     0          0           5                 1977  1990   \n",
       "4      1     0          2          12                 1976  1990   \n",
       "\n",
       "   storey_start  storey_end  floor_area_sqm_log  resale_price_log  \n",
       "0            10          12            3.635067         11.029872  \n",
       "1             4           6            3.635067         11.029872  \n",
       "2            10          12            3.635067         11.029872  \n",
       "3             7           9            3.635067         11.029872  \n",
       "4             4           6            4.290459         11.029872  "
      ]
     },
     "execution_count": 29,
     "metadata": {},
     "output_type": "execute_result"
    }
   ],
   "source": [
    "df_new.head()"
   ]
  },
  {
   "cell_type": "code",
   "execution_count": 30,
   "metadata": {},
   "outputs": [
    {
     "name": "stdout",
     "output_type": "stream",
     "text": [
      "<class 'pandas.core.frame.DataFrame'>\n",
      "Index: 934933 entries, 0 to 188729\n",
      "Data columns (total 10 columns):\n",
      " #   Column               Non-Null Count   Dtype  \n",
      "---  ------               --------------   -----  \n",
      " 0   month                934933 non-null  int64  \n",
      " 1   town                 934933 non-null  int32  \n",
      " 2   flat_type            934933 non-null  int32  \n",
      " 3   flat_model           934933 non-null  int32  \n",
      " 4   lease_commence_date  934933 non-null  int64  \n",
      " 5   year                 934933 non-null  int64  \n",
      " 6   storey_start         934933 non-null  int64  \n",
      " 7   storey_end           934933 non-null  int64  \n",
      " 8   floor_area_sqm_log   934933 non-null  float64\n",
      " 9   resale_price_log     934933 non-null  float64\n",
      "dtypes: float64(2), int32(3), int64(5)\n",
      "memory usage: 67.8 MB\n"
     ]
    }
   ],
   "source": [
    "df_new.info()"
   ]
  },
  {
   "cell_type": "code",
   "execution_count": 31,
   "metadata": {},
   "outputs": [],
   "source": [
    "from sklearn.linear_model import LinearRegression\n",
    "from sklearn.tree import DecisionTreeRegressor\n",
    "from sklearn.metrics import mean_absolute_error, mean_squared_error, r2_score\n",
    "from sklearn.model_selection import train_test_split"
   ]
  },
  {
   "cell_type": "code",
   "execution_count": 32,
   "metadata": {},
   "outputs": [
    {
     "name": "stdout",
     "output_type": "stream",
     "text": [
      "MSE Test: 0.06943167030552332\n",
      "MAE Test: 0.20659150815067762\n",
      "R2 Test: 0.7927265060405798\n"
     ]
    }
   ],
   "source": [
    "x = df_new.drop(['resale_price_log'], axis = 1)\n",
    "y = df_new['resale_price_log']\n",
    "\n",
    "x_train, x_test, y_train, y_test = train_test_split(x, y, test_size = 0.3, random_state=42)\n",
    "model = LinearRegression()\n",
    "\n",
    "model.fit(x_train, y_train)\n",
    "#train_pred = model.predict(x_train)\n",
    "test_pred = model.predict(x_test)\n",
    "\n",
    "print(f\"MSE Test: {mean_squared_error(y_test,test_pred)}\")\n",
    "print(f\"MAE Test: {mean_absolute_error(y_test,test_pred)}\")\n",
    "#print(f\"RMSE Test: {root_mean_squared_error(y_test,test_pred)}\")\n",
    "print(f\"R2 Test: {r2_score(y_test,test_pred)}\")"
   ]
  },
  {
   "cell_type": "code",
   "execution_count": 33,
   "metadata": {},
   "outputs": [
    {
     "name": "stdout",
     "output_type": "stream",
     "text": [
      "MSE Test: 0.010362329418973672\n",
      "MAE Test: 0.06976778151038392\n",
      "R2 Test: 0.9690654680381742\n"
     ]
    }
   ],
   "source": [
    "x_train, x_test, y_train, y_test = train_test_split(x, y, test_size = 0.3, random_state=42)\n",
    "model_d = DecisionTreeRegressor()\n",
    "model_d.fit(x_train, y_train)\n",
    "#train_pred = model.predict(x_train)\n",
    "test_pred = model_d.predict(x_test)\n",
    "\n",
    "print(f\"MSE Test: {mean_squared_error(y_test,test_pred)}\")\n",
    "print(f\"MAE Test: {mean_absolute_error(y_test,test_pred)}\")\n",
    "#print(f\"RMSE Test: {root_mean_squared_error(y_test,test_pred)}\")\n",
    "print(f\"R2 Test: {r2_score(y_test,test_pred)}\")"
   ]
  },
  {
   "cell_type": "code",
   "execution_count": 34,
   "metadata": {},
   "outputs": [
    {
     "data": {
      "text/plain": [
       "month                     1.000000\n",
       "town                      0.000000\n",
       "flat_type                 3.000000\n",
       "flat_model               12.000000\n",
       "lease_commence_date    1984.000000\n",
       "year                   1990.000000\n",
       "storey_start              1.000000\n",
       "storey_end                3.000000\n",
       "floor_area_sqm_log        4.510860\n",
       "resale_price_log         11.029872\n",
       "Name: 123, dtype: float64"
      ]
     },
     "execution_count": 34,
     "metadata": {},
     "output_type": "execute_result"
    }
   ],
   "source": [
    "df_new.iloc[123]"
   ]
  },
  {
   "cell_type": "code",
   "execution_count": 35,
   "metadata": {},
   "outputs": [],
   "source": [
    "# store the model using pickle\n",
    "import pickle as pkl\n",
    "\n",
    "with open('DT.pkl','wb') as file:\n",
    "    pkl.dump(model_d,file)"
   ]
  },
  {
   "cell_type": "code",
   "execution_count": 36,
   "metadata": {},
   "outputs": [],
   "source": [
    "with open('DT.pkl','rb') as file:\n",
    "    model_DT=pkl.load(file)"
   ]
  },
  {
   "cell_type": "code",
   "execution_count": 37,
   "metadata": {},
   "outputs": [
    {
     "name": "stdout",
     "output_type": "stream",
     "text": [
      "Predicted Resale Price: [61689.69070388]\n"
     ]
    }
   ],
   "source": [
    "new_sample = np.array([[1, 0, 3, 12,1984, 1990, 1, 3, 4.510860]])\n",
    "new_pred = model_DT.predict(new_sample)\n",
    "print(\"Predicted Resale Price:\", np.exp(new_pred))"
   ]
  },
  {
   "cell_type": "code",
   "execution_count": 38,
   "metadata": {},
   "outputs": [],
   "source": [
    "df_new.to_csv(\"ResalePrice (1990 - 2017 onwards).csv\", index= False)"
   ]
  }
 ],
 "metadata": {
  "kernelspec": {
   "display_name": "Python 3",
   "language": "python",
   "name": "python3"
  },
  "language_info": {
   "codemirror_mode": {
    "name": "ipython",
    "version": 3
   },
   "file_extension": ".py",
   "mimetype": "text/x-python",
   "name": "python",
   "nbconvert_exporter": "python",
   "pygments_lexer": "ipython3",
   "version": "3.12.1"
  }
 },
 "nbformat": 4,
 "nbformat_minor": 2
}
